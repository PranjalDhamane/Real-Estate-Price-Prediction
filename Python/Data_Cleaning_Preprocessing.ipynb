{
 "cells": [
  {
   "cell_type": "code",
   "execution_count": 1,
   "metadata": {},
   "outputs": [
    {
     "data": {
      "text/plain": [
       "False"
      ]
     },
     "execution_count": 1,
     "metadata": {},
     "output_type": "execute_result"
    }
   ],
   "source": [
    "# imports\n",
    "\n",
    "import pandas as pd\n",
    "import numpy as np\n",
    "import matplotlib.pyplot as plt\n",
    "import seaborn as sns\n",
    "\n",
    "%matplotlib inline\n",
    "sns.set_style('whitegrid')\n",
    "plt.rcParams['figure.dpi'] == 300"
   ]
  },
  {
   "cell_type": "markdown",
   "metadata": {},
   "source": [
    "# Data Exploration"
   ]
  },
  {
   "cell_type": "code",
   "execution_count": 2,
   "metadata": {},
   "outputs": [],
   "source": [
    "# reading the dataset\n",
    "\n",
    "data = pd.read_csv(r'C:\\Github\\Real-Estate-Price-Prediction\\Real-Estate-Price-Prediction\\Data\\house_prices.csv')"
   ]
  },
  {
   "cell_type": "code",
   "execution_count": 3,
   "metadata": {},
   "outputs": [
    {
     "data": {
      "text/html": [
       "<div>\n",
       "<style scoped>\n",
       "    .dataframe tbody tr th:only-of-type {\n",
       "        vertical-align: middle;\n",
       "    }\n",
       "\n",
       "    .dataframe tbody tr th {\n",
       "        vertical-align: top;\n",
       "    }\n",
       "\n",
       "    .dataframe thead th {\n",
       "        text-align: right;\n",
       "    }\n",
       "</style>\n",
       "<table border=\"1\" class=\"dataframe\">\n",
       "  <thead>\n",
       "    <tr style=\"text-align: right;\">\n",
       "      <th></th>\n",
       "      <th>area_type</th>\n",
       "      <th>availability</th>\n",
       "      <th>location</th>\n",
       "      <th>size</th>\n",
       "      <th>society</th>\n",
       "      <th>total_sqft</th>\n",
       "      <th>bath</th>\n",
       "      <th>balcony</th>\n",
       "      <th>price</th>\n",
       "    </tr>\n",
       "  </thead>\n",
       "  <tbody>\n",
       "    <tr>\n",
       "      <th>0</th>\n",
       "      <td>Super built-up  Area</td>\n",
       "      <td>19-Dec</td>\n",
       "      <td>Electronic City Phase II</td>\n",
       "      <td>2 BHK</td>\n",
       "      <td>Coomee</td>\n",
       "      <td>1056</td>\n",
       "      <td>2.0</td>\n",
       "      <td>1.0</td>\n",
       "      <td>39.07</td>\n",
       "    </tr>\n",
       "    <tr>\n",
       "      <th>1</th>\n",
       "      <td>Plot  Area</td>\n",
       "      <td>Ready To Move</td>\n",
       "      <td>Chikka Tirupathi</td>\n",
       "      <td>4 Bedroom</td>\n",
       "      <td>Theanmp</td>\n",
       "      <td>2600</td>\n",
       "      <td>5.0</td>\n",
       "      <td>3.0</td>\n",
       "      <td>120.00</td>\n",
       "    </tr>\n",
       "    <tr>\n",
       "      <th>2</th>\n",
       "      <td>Built-up  Area</td>\n",
       "      <td>Ready To Move</td>\n",
       "      <td>Uttarahalli</td>\n",
       "      <td>3 BHK</td>\n",
       "      <td>NaN</td>\n",
       "      <td>1440</td>\n",
       "      <td>2.0</td>\n",
       "      <td>3.0</td>\n",
       "      <td>62.00</td>\n",
       "    </tr>\n",
       "    <tr>\n",
       "      <th>3</th>\n",
       "      <td>Super built-up  Area</td>\n",
       "      <td>Ready To Move</td>\n",
       "      <td>Lingadheeranahalli</td>\n",
       "      <td>3 BHK</td>\n",
       "      <td>Soiewre</td>\n",
       "      <td>1521</td>\n",
       "      <td>3.0</td>\n",
       "      <td>1.0</td>\n",
       "      <td>95.00</td>\n",
       "    </tr>\n",
       "    <tr>\n",
       "      <th>4</th>\n",
       "      <td>Super built-up  Area</td>\n",
       "      <td>Ready To Move</td>\n",
       "      <td>Kothanur</td>\n",
       "      <td>2 BHK</td>\n",
       "      <td>NaN</td>\n",
       "      <td>1200</td>\n",
       "      <td>2.0</td>\n",
       "      <td>1.0</td>\n",
       "      <td>51.00</td>\n",
       "    </tr>\n",
       "  </tbody>\n",
       "</table>\n",
       "</div>"
      ],
      "text/plain": [
       "              area_type   availability                  location       size  \\\n",
       "0  Super built-up  Area         19-Dec  Electronic City Phase II      2 BHK   \n",
       "1            Plot  Area  Ready To Move          Chikka Tirupathi  4 Bedroom   \n",
       "2        Built-up  Area  Ready To Move               Uttarahalli      3 BHK   \n",
       "3  Super built-up  Area  Ready To Move        Lingadheeranahalli      3 BHK   \n",
       "4  Super built-up  Area  Ready To Move                  Kothanur      2 BHK   \n",
       "\n",
       "   society total_sqft  bath  balcony   price  \n",
       "0  Coomee        1056   2.0      1.0   39.07  \n",
       "1  Theanmp       2600   5.0      3.0  120.00  \n",
       "2      NaN       1440   2.0      3.0   62.00  \n",
       "3  Soiewre       1521   3.0      1.0   95.00  \n",
       "4      NaN       1200   2.0      1.0   51.00  "
      ]
     },
     "metadata": {},
     "output_type": "display_data"
    },
    {
     "data": {
      "text/html": [
       "<div>\n",
       "<style scoped>\n",
       "    .dataframe tbody tr th:only-of-type {\n",
       "        vertical-align: middle;\n",
       "    }\n",
       "\n",
       "    .dataframe tbody tr th {\n",
       "        vertical-align: top;\n",
       "    }\n",
       "\n",
       "    .dataframe thead th {\n",
       "        text-align: right;\n",
       "    }\n",
       "</style>\n",
       "<table border=\"1\" class=\"dataframe\">\n",
       "  <thead>\n",
       "    <tr style=\"text-align: right;\">\n",
       "      <th></th>\n",
       "      <th>area_type</th>\n",
       "      <th>availability</th>\n",
       "      <th>location</th>\n",
       "      <th>size</th>\n",
       "      <th>society</th>\n",
       "      <th>total_sqft</th>\n",
       "      <th>bath</th>\n",
       "      <th>balcony</th>\n",
       "      <th>price</th>\n",
       "    </tr>\n",
       "  </thead>\n",
       "  <tbody>\n",
       "    <tr>\n",
       "      <th>7889</th>\n",
       "      <td>Super built-up  Area</td>\n",
       "      <td>Ready To Move</td>\n",
       "      <td>B Narayanapura</td>\n",
       "      <td>2 BHK</td>\n",
       "      <td>NaN</td>\n",
       "      <td>1020</td>\n",
       "      <td>2.0</td>\n",
       "      <td>1.0</td>\n",
       "      <td>49.0</td>\n",
       "    </tr>\n",
       "    <tr>\n",
       "      <th>8439</th>\n",
       "      <td>Built-up  Area</td>\n",
       "      <td>17-Dec</td>\n",
       "      <td>Sarjapur  Road</td>\n",
       "      <td>2 BHK</td>\n",
       "      <td>NaN</td>\n",
       "      <td>1060</td>\n",
       "      <td>2.0</td>\n",
       "      <td>1.0</td>\n",
       "      <td>50.0</td>\n",
       "    </tr>\n",
       "    <tr>\n",
       "      <th>11012</th>\n",
       "      <td>Built-up  Area</td>\n",
       "      <td>Ready To Move</td>\n",
       "      <td>Kengeri Satellite Town</td>\n",
       "      <td>2 BHK</td>\n",
       "      <td>MMowsik</td>\n",
       "      <td>1110</td>\n",
       "      <td>2.0</td>\n",
       "      <td>1.0</td>\n",
       "      <td>43.0</td>\n",
       "    </tr>\n",
       "    <tr>\n",
       "      <th>6959</th>\n",
       "      <td>Built-up  Area</td>\n",
       "      <td>Ready To Move</td>\n",
       "      <td>Herohalli</td>\n",
       "      <td>3 Bedroom</td>\n",
       "      <td>NaN</td>\n",
       "      <td>1100</td>\n",
       "      <td>3.0</td>\n",
       "      <td>1.0</td>\n",
       "      <td>110.0</td>\n",
       "    </tr>\n",
       "    <tr>\n",
       "      <th>2325</th>\n",
       "      <td>Built-up  Area</td>\n",
       "      <td>18-Mar</td>\n",
       "      <td>Sahakara Nagar</td>\n",
       "      <td>3 BHK</td>\n",
       "      <td>NaN</td>\n",
       "      <td>1655</td>\n",
       "      <td>3.0</td>\n",
       "      <td>1.0</td>\n",
       "      <td>115.0</td>\n",
       "    </tr>\n",
       "  </tbody>\n",
       "</table>\n",
       "</div>"
      ],
      "text/plain": [
       "                  area_type   availability                location       size  \\\n",
       "7889   Super built-up  Area  Ready To Move          B Narayanapura      2 BHK   \n",
       "8439         Built-up  Area         17-Dec          Sarjapur  Road      2 BHK   \n",
       "11012        Built-up  Area  Ready To Move  Kengeri Satellite Town      2 BHK   \n",
       "6959         Built-up  Area  Ready To Move               Herohalli  3 Bedroom   \n",
       "2325         Built-up  Area         18-Mar          Sahakara Nagar      3 BHK   \n",
       "\n",
       "       society total_sqft  bath  balcony  price  \n",
       "7889       NaN       1020   2.0      1.0   49.0  \n",
       "8439       NaN       1060   2.0      1.0   50.0  \n",
       "11012  MMowsik       1110   2.0      1.0   43.0  \n",
       "6959       NaN       1100   3.0      1.0  110.0  \n",
       "2325       NaN       1655   3.0      1.0  115.0  "
      ]
     },
     "metadata": {},
     "output_type": "display_data"
    },
    {
     "data": {
      "text/html": [
       "<div>\n",
       "<style scoped>\n",
       "    .dataframe tbody tr th:only-of-type {\n",
       "        vertical-align: middle;\n",
       "    }\n",
       "\n",
       "    .dataframe tbody tr th {\n",
       "        vertical-align: top;\n",
       "    }\n",
       "\n",
       "    .dataframe thead th {\n",
       "        text-align: right;\n",
       "    }\n",
       "</style>\n",
       "<table border=\"1\" class=\"dataframe\">\n",
       "  <thead>\n",
       "    <tr style=\"text-align: right;\">\n",
       "      <th></th>\n",
       "      <th>area_type</th>\n",
       "      <th>availability</th>\n",
       "      <th>location</th>\n",
       "      <th>size</th>\n",
       "      <th>society</th>\n",
       "      <th>total_sqft</th>\n",
       "      <th>bath</th>\n",
       "      <th>balcony</th>\n",
       "      <th>price</th>\n",
       "    </tr>\n",
       "  </thead>\n",
       "  <tbody>\n",
       "    <tr>\n",
       "      <th>13315</th>\n",
       "      <td>Built-up  Area</td>\n",
       "      <td>Ready To Move</td>\n",
       "      <td>Whitefield</td>\n",
       "      <td>5 Bedroom</td>\n",
       "      <td>ArsiaEx</td>\n",
       "      <td>3453</td>\n",
       "      <td>4.0</td>\n",
       "      <td>0.0</td>\n",
       "      <td>231.0</td>\n",
       "    </tr>\n",
       "    <tr>\n",
       "      <th>13316</th>\n",
       "      <td>Super built-up  Area</td>\n",
       "      <td>Ready To Move</td>\n",
       "      <td>Richards Town</td>\n",
       "      <td>4 BHK</td>\n",
       "      <td>NaN</td>\n",
       "      <td>3600</td>\n",
       "      <td>5.0</td>\n",
       "      <td>NaN</td>\n",
       "      <td>400.0</td>\n",
       "    </tr>\n",
       "    <tr>\n",
       "      <th>13317</th>\n",
       "      <td>Built-up  Area</td>\n",
       "      <td>Ready To Move</td>\n",
       "      <td>Raja Rajeshwari Nagar</td>\n",
       "      <td>2 BHK</td>\n",
       "      <td>Mahla T</td>\n",
       "      <td>1141</td>\n",
       "      <td>2.0</td>\n",
       "      <td>1.0</td>\n",
       "      <td>60.0</td>\n",
       "    </tr>\n",
       "    <tr>\n",
       "      <th>13318</th>\n",
       "      <td>Super built-up  Area</td>\n",
       "      <td>18-Jun</td>\n",
       "      <td>Padmanabhanagar</td>\n",
       "      <td>4 BHK</td>\n",
       "      <td>SollyCl</td>\n",
       "      <td>4689</td>\n",
       "      <td>4.0</td>\n",
       "      <td>1.0</td>\n",
       "      <td>488.0</td>\n",
       "    </tr>\n",
       "    <tr>\n",
       "      <th>13319</th>\n",
       "      <td>Super built-up  Area</td>\n",
       "      <td>Ready To Move</td>\n",
       "      <td>Doddathoguru</td>\n",
       "      <td>1 BHK</td>\n",
       "      <td>NaN</td>\n",
       "      <td>550</td>\n",
       "      <td>1.0</td>\n",
       "      <td>1.0</td>\n",
       "      <td>17.0</td>\n",
       "    </tr>\n",
       "  </tbody>\n",
       "</table>\n",
       "</div>"
      ],
      "text/plain": [
       "                  area_type   availability               location       size  \\\n",
       "13315        Built-up  Area  Ready To Move             Whitefield  5 Bedroom   \n",
       "13316  Super built-up  Area  Ready To Move          Richards Town      4 BHK   \n",
       "13317        Built-up  Area  Ready To Move  Raja Rajeshwari Nagar      2 BHK   \n",
       "13318  Super built-up  Area         18-Jun        Padmanabhanagar      4 BHK   \n",
       "13319  Super built-up  Area  Ready To Move           Doddathoguru      1 BHK   \n",
       "\n",
       "       society total_sqft  bath  balcony  price  \n",
       "13315  ArsiaEx       3453   4.0      0.0  231.0  \n",
       "13316      NaN       3600   5.0      NaN  400.0  \n",
       "13317  Mahla T       1141   2.0      1.0   60.0  \n",
       "13318  SollyCl       4689   4.0      1.0  488.0  \n",
       "13319      NaN        550   1.0      1.0   17.0  "
      ]
     },
     "metadata": {},
     "output_type": "display_data"
    }
   ],
   "source": [
    "# looking at the data\n",
    "\n",
    "display(data.head(5),data.sample(5),data.tail(5))"
   ]
  },
  {
   "cell_type": "code",
   "execution_count": 4,
   "metadata": {},
   "outputs": [
    {
     "name": "stdout",
     "output_type": "stream",
     "text": [
      "<class 'pandas.core.frame.DataFrame'>\n",
      "RangeIndex: 13320 entries, 0 to 13319\n",
      "Data columns (total 9 columns):\n",
      " #   Column        Non-Null Count  Dtype  \n",
      "---  ------        --------------  -----  \n",
      " 0   area_type     13320 non-null  object \n",
      " 1   availability  13320 non-null  object \n",
      " 2   location      13319 non-null  object \n",
      " 3   size          13304 non-null  object \n",
      " 4   society       7818 non-null   object \n",
      " 5   total_sqft    13320 non-null  object \n",
      " 6   bath          13247 non-null  float64\n",
      " 7   balcony       12711 non-null  float64\n",
      " 8   price         13320 non-null  float64\n",
      "dtypes: float64(3), object(6)\n",
      "memory usage: 936.7+ KB\n"
     ]
    }
   ],
   "source": [
    "# checking the data summary\n",
    "data.info()"
   ]
  },
  {
   "cell_type": "markdown",
   "metadata": {},
   "source": [
    "**Inference:**\n",
    "\n",
    "- there are 13320 records with 8 columns.\n",
    "- total_sqft, bath, balcony, price are the float64 values rest are of object data type.\n",
    "- there seem to have misssing values in the data."
   ]
  },
  {
   "cell_type": "code",
   "execution_count": 5,
   "metadata": {},
   "outputs": [
    {
     "data": {
      "text/html": [
       "<div>\n",
       "<style scoped>\n",
       "    .dataframe tbody tr th:only-of-type {\n",
       "        vertical-align: middle;\n",
       "    }\n",
       "\n",
       "    .dataframe tbody tr th {\n",
       "        vertical-align: top;\n",
       "    }\n",
       "\n",
       "    .dataframe thead th {\n",
       "        text-align: right;\n",
       "    }\n",
       "</style>\n",
       "<table border=\"1\" class=\"dataframe\">\n",
       "  <thead>\n",
       "    <tr style=\"text-align: right;\">\n",
       "      <th></th>\n",
       "      <th>count</th>\n",
       "      <th>mean</th>\n",
       "      <th>std</th>\n",
       "      <th>min</th>\n",
       "      <th>25%</th>\n",
       "      <th>50%</th>\n",
       "      <th>75%</th>\n",
       "      <th>max</th>\n",
       "    </tr>\n",
       "  </thead>\n",
       "  <tbody>\n",
       "    <tr>\n",
       "      <th>bath</th>\n",
       "      <td>13247.0</td>\n",
       "      <td>2.692610</td>\n",
       "      <td>1.341458</td>\n",
       "      <td>1.0</td>\n",
       "      <td>2.0</td>\n",
       "      <td>2.0</td>\n",
       "      <td>3.0</td>\n",
       "      <td>40.0</td>\n",
       "    </tr>\n",
       "    <tr>\n",
       "      <th>balcony</th>\n",
       "      <td>12711.0</td>\n",
       "      <td>1.584376</td>\n",
       "      <td>0.817263</td>\n",
       "      <td>0.0</td>\n",
       "      <td>1.0</td>\n",
       "      <td>2.0</td>\n",
       "      <td>2.0</td>\n",
       "      <td>3.0</td>\n",
       "    </tr>\n",
       "    <tr>\n",
       "      <th>price</th>\n",
       "      <td>13320.0</td>\n",
       "      <td>112.565627</td>\n",
       "      <td>148.971674</td>\n",
       "      <td>8.0</td>\n",
       "      <td>50.0</td>\n",
       "      <td>72.0</td>\n",
       "      <td>120.0</td>\n",
       "      <td>3600.0</td>\n",
       "    </tr>\n",
       "  </tbody>\n",
       "</table>\n",
       "</div>"
      ],
      "text/plain": [
       "           count        mean         std  min   25%   50%    75%     max\n",
       "bath     13247.0    2.692610    1.341458  1.0   2.0   2.0    3.0    40.0\n",
       "balcony  12711.0    1.584376    0.817263  0.0   1.0   2.0    2.0     3.0\n",
       "price    13320.0  112.565627  148.971674  8.0  50.0  72.0  120.0  3600.0"
      ]
     },
     "execution_count": 5,
     "metadata": {},
     "output_type": "execute_result"
    }
   ],
   "source": [
    "# checking the central tencendy of the data\n",
    "\n",
    "data.describe().T"
   ]
  },
  {
   "cell_type": "markdown",
   "metadata": {},
   "source": [
    "**Inference:**\n",
    "\n",
    "- There is a posibility of outliers as there is property with 40 number of baths which is extremely rare. Every property has minimum 1 bathrom with average of 2 bathrooms.\n",
    "- There number of balcony varies from minimum 0 to maximum 3.\n",
    "- The price column is not interpretable at the moment."
   ]
  },
  {
   "cell_type": "markdown",
   "metadata": {},
   "source": [
    "# Data Cleaning:"
   ]
  },
  {
   "cell_type": "code",
   "execution_count": 6,
   "metadata": {},
   "outputs": [
    {
     "data": {
      "text/plain": [
       "area_type          0\n",
       "availability       0\n",
       "location           1\n",
       "size              16\n",
       "society         5502\n",
       "total_sqft         0\n",
       "bath              73\n",
       "balcony          609\n",
       "price              0\n",
       "dtype: int64"
      ]
     },
     "execution_count": 6,
     "metadata": {},
     "output_type": "execute_result"
    }
   ],
   "source": [
    "# checking for missing values\n",
    "data.isnull().sum()"
   ]
  },
  {
   "cell_type": "markdown",
   "metadata": {},
   "source": [
    "- We will be dropping availiblity, area_type, and society columns as they will not help to predict prices and overall predictive ability.\n",
    "\n",
    "- we will be droping society column as well, as it have too many missing values.\n",
    "\n",
    "- we will be treating the other columns as required."
   ]
  },
  {
   "cell_type": "code",
   "execution_count": 7,
   "metadata": {},
   "outputs": [],
   "source": [
    "df = data.drop(['availability','area_type','society','balcony'],axis = 1)"
   ]
  },
  {
   "cell_type": "markdown",
   "metadata": {},
   "source": [
    "We will be droping the other columns missing values as they are small in number."
   ]
  },
  {
   "cell_type": "code",
   "execution_count": 8,
   "metadata": {},
   "outputs": [
    {
     "data": {
      "text/html": [
       "<div>\n",
       "<style scoped>\n",
       "    .dataframe tbody tr th:only-of-type {\n",
       "        vertical-align: middle;\n",
       "    }\n",
       "\n",
       "    .dataframe tbody tr th {\n",
       "        vertical-align: top;\n",
       "    }\n",
       "\n",
       "    .dataframe thead th {\n",
       "        text-align: right;\n",
       "    }\n",
       "</style>\n",
       "<table border=\"1\" class=\"dataframe\">\n",
       "  <thead>\n",
       "    <tr style=\"text-align: right;\">\n",
       "      <th></th>\n",
       "      <th>location</th>\n",
       "      <th>size</th>\n",
       "      <th>total_sqft</th>\n",
       "      <th>bath</th>\n",
       "      <th>price</th>\n",
       "    </tr>\n",
       "  </thead>\n",
       "  <tbody>\n",
       "    <tr>\n",
       "      <th>0</th>\n",
       "      <td>Electronic City Phase II</td>\n",
       "      <td>2 BHK</td>\n",
       "      <td>1056</td>\n",
       "      <td>2.0</td>\n",
       "      <td>39.07</td>\n",
       "    </tr>\n",
       "    <tr>\n",
       "      <th>1</th>\n",
       "      <td>Chikka Tirupathi</td>\n",
       "      <td>4 Bedroom</td>\n",
       "      <td>2600</td>\n",
       "      <td>5.0</td>\n",
       "      <td>120.00</td>\n",
       "    </tr>\n",
       "    <tr>\n",
       "      <th>2</th>\n",
       "      <td>Uttarahalli</td>\n",
       "      <td>3 BHK</td>\n",
       "      <td>1440</td>\n",
       "      <td>2.0</td>\n",
       "      <td>62.00</td>\n",
       "    </tr>\n",
       "    <tr>\n",
       "      <th>3</th>\n",
       "      <td>Lingadheeranahalli</td>\n",
       "      <td>3 BHK</td>\n",
       "      <td>1521</td>\n",
       "      <td>3.0</td>\n",
       "      <td>95.00</td>\n",
       "    </tr>\n",
       "    <tr>\n",
       "      <th>4</th>\n",
       "      <td>Kothanur</td>\n",
       "      <td>2 BHK</td>\n",
       "      <td>1200</td>\n",
       "      <td>2.0</td>\n",
       "      <td>51.00</td>\n",
       "    </tr>\n",
       "  </tbody>\n",
       "</table>\n",
       "</div>"
      ],
      "text/plain": [
       "                   location       size total_sqft  bath   price\n",
       "0  Electronic City Phase II      2 BHK       1056   2.0   39.07\n",
       "1          Chikka Tirupathi  4 Bedroom       2600   5.0  120.00\n",
       "2               Uttarahalli      3 BHK       1440   2.0   62.00\n",
       "3        Lingadheeranahalli      3 BHK       1521   3.0   95.00\n",
       "4                  Kothanur      2 BHK       1200   2.0   51.00"
      ]
     },
     "execution_count": 8,
     "metadata": {},
     "output_type": "execute_result"
    }
   ],
   "source": [
    "# droping the na values\n",
    "df = df.dropna()\n",
    "# checking the data\n",
    "df.head()"
   ]
  },
  {
   "cell_type": "code",
   "execution_count": 9,
   "metadata": {},
   "outputs": [
    {
     "data": {
      "text/plain": [
       "location      0\n",
       "size          0\n",
       "total_sqft    0\n",
       "bath          0\n",
       "price         0\n",
       "dtype: int64"
      ]
     },
     "execution_count": 9,
     "metadata": {},
     "output_type": "execute_result"
    }
   ],
   "source": [
    "df.isnull().sum()"
   ]
  },
  {
   "cell_type": "markdown",
   "metadata": {},
   "source": [
    "We can see some inconsistency in size column. We will be checking the same for other columns as well."
   ]
  },
  {
   "cell_type": "code",
   "execution_count": 10,
   "metadata": {},
   "outputs": [
    {
     "data": {
      "text/plain": [
       "array(['2 BHK', '4 Bedroom', '3 BHK', '4 BHK', '6 Bedroom', '3 Bedroom',\n",
       "       '1 BHK', '1 RK', '1 Bedroom', '8 Bedroom', '2 Bedroom',\n",
       "       '7 Bedroom', '5 BHK', '7 BHK', '6 BHK', '5 Bedroom', '11 BHK',\n",
       "       '9 BHK', '9 Bedroom', '27 BHK', '10 Bedroom', '11 Bedroom',\n",
       "       '10 BHK', '19 BHK', '16 BHK', '43 Bedroom', '14 BHK', '8 BHK',\n",
       "       '12 Bedroom', '13 BHK', '18 Bedroom'], dtype=object)"
      ]
     },
     "metadata": {},
     "output_type": "display_data"
    },
    {
     "data": {
      "text/plain": [
       "'105626001440152112001170273233001310102018002785100011002250117511801540277060017552800176751012506601610115110252100 - 285010751760169319257001070172412901143129612541330.74970145980086912701670201011851600150014078404395845570011603000114012201350100550013581569124020891206115025114604400166013261325149916657081060710145028941330250265024001007966163016407821260141311161530370024971436276142720613067 - 81562650128210509459501870880153513601042 - 11051280500030501563.051167400018288901612103417109572795112517352050375010631904420020001145 - 1340142514701300450115215504007057701242170021441704184613401015 - 154013271186178314009801285912122519091359120717362850159517981475158012953600589141517879842405108019008051153114811101933350064516449101577405024209001108304529001162103514641866180491318688831664202612104111176212528611420149010841015101710271069134914171863101018475251850143815608501113138511282390164511922135117331221230111508159213886303252130853012059301380248311662023.7119354511801145116291826124511458251113.2714601656120819101200055034.46Sq. Meter750109019911105985153315901120119414192150118901750140417151752.121650134633091190162024501130132048009291753450011961040720151115453751062111511951246850028051584135315995230115518671251102812221372113517682610128628451195 - 144034501102656178059522251126414421002230154413059675407152500157812539611709416143012492791834206089111332440940216041041790192013741445711172010301375469380018208754125Perch2378338516411120 - 114522001702114120723090 - 5002350001355101918751683151521181083230010922264103381010451337157018551823109412021688123532051077233042552701468430022801341127927601101775667735436012158201160 - 119517791000Sq. Meter16942376197567444516182181155611791275161592016021176675135217171096121191157156628301091367091819501695170514471114102237611339119816911115 - 1130248911421976550018531567995884134213451100Sq. Yards165217401278520 - 6451356823189715759756861410223811747931082100115541000 - 12854239168024702825248017991047149532601611320616391303650 - 665901172513961825156518911161633 - 66631566512552112.951810154814851256226841005.31Acres15184314671209131539681563216932351036166212341403915390014052557148030Acres61361390310018241561812124316371265241666135710931865103919851520600011171937105316251397152399630951445 - 1455697884 - 111614533335850 - 10931281565102412331510194510082689169716511078131485616211484140004851617138414082292200619841960302415862325924100628421558.67154227503596163512391596100917269253356139511211606463412326803467.86113212621840165517302195107910853200173943469351178106599918352090151912671146332978592127001197716Sq. Meter3073755121316541367620982440161413631156145518902197352276413813402465547.34 - 827.31865175662817651532804.115251435127215411201178512581297129110122790580 - 650137310523680286324242710304012941808351638503770153715121378127780002550319816902572520121915643425 - 34351482146955117451269.721266116815521804 - 22738172070181565411811616130616261585137032503630 - 38004000 - 5249119316781500Sq. Meter278024228821757142.61Sq. Meter20282611116310981418727277417229141184927148816997121476142911881574Sq. Yards1026269036063630149417583675233758006821632104150803012107252272726993174312046409729552479.13304210681354123822041364132991668813312106171819362172.65990168574011728962460202524757653155198035555852045615067120171139581.91115839513601307170313431852154614241398132243247501250 - 130515711031110923501003824960011112519183716731112545670 - 9801754358421683125109587017081183306719291775126816873526983203913161005.03 - 1252.49160513131934877936190118193245184522545151893302583021451004 - 1204361.33Sq. Yards9872556946212186012231788114418621646199516926040204013114850645 - 936194266810899601583101834002710 - 3360395125912161428605144411871452.552357144829610581411250325241634160371415731465351252696512292830 - 2882105513042720596 - 804136511651776.421107231915361164113383000031901917107144603297693102116082289225712631255 - 186310431300 - 1405590129931611124871351511181051147812263366760172822151562155521056200606527232121671274117Sq. Yards78075009047309772540795146324012065934 - 1437980 - 103015491452.19284973479918963875149313663010423520021419.595530139216757921248114715271332933461.82239298911991149218018182430282047723960560015535400794405113512249.81 - 4112.198321177715766482721226522201070 - 1315188815599058293040Sq. Meter2409364017491127419012474201672500Sq. Yards18172043277912241517108615881020.0759652806 - 3019613 - 648353761595612182559236338958851451.53016133667317196641011704 - 73012312024240822401584.016851858353034361335199939501205.479233595944832325914578581689.281241234059610000312613184428291213011819.1820591269888532902402516761137322721702940191596316821371378512033508358151134769171210881106159119182990134421131884703130232629191159138620802386153118391210 - 147715138921104481843559083369 - 3464321610231574236014521125 - 15008133884387618802425109793789716531212277634801965117382372167Sq. Meter10161076 - 1199182726511752227097170002342381 - 53566001627.863004118263520621874117120201059524 - 89423881369.119382462163628851462607329510761053.4540 - 670315Sq. Yards15051698256018563445228313823815373013914827745127683366915941037381119962275184210481466386030271734704365710965802725 - 3250183017461732.46259244706247222775706610435613942138910.249605753179292890919326556622182241619483905210724311257178926751081336028822320140246408189000116999795812883035661300175117788142006.84351922888 - 1290375414492658171141823703520515391004598510462493992358010672461143717952155426014865554830238311031721226611231328211115383080787938660 - 7006613502333967014832162173312211376183219748491706385 - 440263127921518480193016792448770 - 8412171113614774200013121793155135634623Cents360001113.122640164362113099811548.323021525.841227188.89Sq. Yards7972396193934011469 - 17661434224645105601138204Sq. Meter1255 - 13507251766870 - 108062545Sq. Yards9481914133439402777.291014695227331601769133.3Sq. Yards1554.349206273405.11498922240312362570144217322580 - 25918819511652.53532260121599064700238494114142563 - 27332005605 - 6242582266321271349 - 3324393012934565878.03Sq. Meter1208.513300 - 333516222435173717761347225923281180 - 1630602806141616281660.415071949407528801987119149767222451597242331318273964273126114581365 - 17008766901073122Sq. Yards21721689166793484.53Sq. Meter6512.09Acres2075583981 - 1249209912372108296864418591565 - 15952232293234251504382024Guntha18311270 - 1275840 - 1010947697Sq. Meter180516771716186463848564003149214891431366453925202173655 - 74231709071741346321201107.835051408 - 1455290117131266.67942 - 111726791777.263044315030902093790174424761877164976615931333598 - 958163110131500Cents4250182957202047213214121044720064624561439221014095924552236586418061066229319031567.226136959132Sq. Yards85518851691.21010 - 130021221100010992Acres12831450 - 195020232274.24490020793589177012444702095213425151970266521301100Sq. Meter947.55142115Acres399025013813301.83204340814961860348941661763763 - 80510023307 - 346422601.26Acres5422620 - 9341542.14374651002144.6108710612462 - 2467540 - 7401020052002000012843508 - 42011613683036921503440878001962189415684900 - 4940306087326663633755 - 7703978362120081362694167430331181.713382625204135651502387040971601664 - 72223803569151.11Sq. Yards3435314436021074596 - 86195214322251243910321998305680818368262317666329331971516149118811217323097341102533615 - 98522971057147138557400417023751506187251081393249684001558105426461633540 - 56527366166500154766317071324178613685352003250442904102087.01750 - 8001660 - 180527043760307146002429292519191719.3166816093420186133621079 - 11832800 - 287020151230 - 129020481119943 - 1220179718162041 - 20905881234.6492190212147531763.25527 - 6391129236745643205342249.813626211045601Grounds1160 - 1315706 - 7163560144135082940Sq. Yards29969947023496612162317921587212515291319991717311718442648222345.06Sq. Meter799 - 8032185998273313892970190744462470 - 27903009783 - 943190553841723160751502956152232105425978404136282437327085722472980570208742784500 - 5540100303005420143822140192116692285164213612801.251688.12939129833501255 - 137529501733.51062434186913092610 - 61539131049203024041423633854 - 9602597121119812650 - 299075141.25Acres86.72Sq. Meter273512872842077499282645505241230 - 149024953075142620822214896.92064488660 - 7802916208858151625693758138323161626.61348430319901940118944829861150 - 11942507684 - 810866.283410209817615093535115430191510 - 1670174816041248.521370.071550 - 1590777.4188634536232546943187914011235 - 14101139.7132338Guntha32801581929 - 10782150 - 22252051338123121520 - 1759445078466529764694302629 - 1026228218142695601215 - 14958426Acres1140 - 1250430442092415173115891473404024062400 - 26002137278731751052 - 13222035884016845666 - 56696142162.036729893201917471524127326157722999.971289137718922176355436711681223629551950.2712 - 9382171.661783 - 1878120Sq. Yards3729953551524Sq. Meter132113172528 - 31882031145421534751623.29650 - 7605480565686635044723245325055671400 - 142143501443886163357471857187619164000 - 4450142.84Sq. Meter37349644007300Sq. Yards2875229516861989754244432901932.4720869112206165924851437 - 1629850 - 1060304001701126415571200 - 1470715013695665.84292066881331.9528721648137931249200613250239527581133 - 13847744689'"
      ]
     },
     "metadata": {},
     "output_type": "display_data"
    },
    {
     "data": {
      "text/plain": [
       "array([ 2.,  5.,  3.,  4.,  6.,  1.,  9.,  8.,  7., 11., 10., 14., 27.,\n",
       "       12., 16., 40., 15., 13., 18.])"
      ]
     },
     "metadata": {},
     "output_type": "display_data"
    },
    {
     "data": {
      "text/plain": [
       "array([ 39.07, 120.  ,  62.  , ...,  40.14, 231.  , 488.  ])"
      ]
     },
     "metadata": {},
     "output_type": "display_data"
    }
   ],
   "source": [
    "display(df['size'].unique(),df['total_sqft'].unique().sum(),\n",
    "        df['bath'].unique()\n",
    "        ,df['price'].unique())"
   ]
  },
  {
   "cell_type": "code",
   "execution_count": 11,
   "metadata": {},
   "outputs": [
    {
     "data": {
      "text/html": [
       "<div>\n",
       "<style scoped>\n",
       "    .dataframe tbody tr th:only-of-type {\n",
       "        vertical-align: middle;\n",
       "    }\n",
       "\n",
       "    .dataframe tbody tr th {\n",
       "        vertical-align: top;\n",
       "    }\n",
       "\n",
       "    .dataframe thead th {\n",
       "        text-align: right;\n",
       "    }\n",
       "</style>\n",
       "<table border=\"1\" class=\"dataframe\">\n",
       "  <thead>\n",
       "    <tr style=\"text-align: right;\">\n",
       "      <th></th>\n",
       "      <th>location</th>\n",
       "      <th>total_sqft</th>\n",
       "      <th>bath</th>\n",
       "      <th>price</th>\n",
       "      <th>bhk</th>\n",
       "    </tr>\n",
       "  </thead>\n",
       "  <tbody>\n",
       "    <tr>\n",
       "      <th>0</th>\n",
       "      <td>Electronic City Phase II</td>\n",
       "      <td>1056</td>\n",
       "      <td>2.0</td>\n",
       "      <td>39.07</td>\n",
       "      <td>2</td>\n",
       "    </tr>\n",
       "    <tr>\n",
       "      <th>1</th>\n",
       "      <td>Chikka Tirupathi</td>\n",
       "      <td>2600</td>\n",
       "      <td>5.0</td>\n",
       "      <td>120.00</td>\n",
       "      <td>4</td>\n",
       "    </tr>\n",
       "    <tr>\n",
       "      <th>2</th>\n",
       "      <td>Uttarahalli</td>\n",
       "      <td>1440</td>\n",
       "      <td>2.0</td>\n",
       "      <td>62.00</td>\n",
       "      <td>3</td>\n",
       "    </tr>\n",
       "    <tr>\n",
       "      <th>3</th>\n",
       "      <td>Lingadheeranahalli</td>\n",
       "      <td>1521</td>\n",
       "      <td>3.0</td>\n",
       "      <td>95.00</td>\n",
       "      <td>3</td>\n",
       "    </tr>\n",
       "    <tr>\n",
       "      <th>4</th>\n",
       "      <td>Kothanur</td>\n",
       "      <td>1200</td>\n",
       "      <td>2.0</td>\n",
       "      <td>51.00</td>\n",
       "      <td>2</td>\n",
       "    </tr>\n",
       "  </tbody>\n",
       "</table>\n",
       "</div>"
      ],
      "text/plain": [
       "                   location total_sqft  bath   price  bhk\n",
       "0  Electronic City Phase II       1056   2.0   39.07    2\n",
       "1          Chikka Tirupathi       2600   5.0  120.00    4\n",
       "2               Uttarahalli       1440   2.0   62.00    3\n",
       "3        Lingadheeranahalli       1521   3.0   95.00    3\n",
       "4                  Kothanur       1200   2.0   51.00    2"
      ]
     },
     "execution_count": 11,
     "metadata": {},
     "output_type": "execute_result"
    }
   ],
   "source": [
    "# creating new column with just the number of bedrooms and adding it in the dataset\n",
    "df['bhk'] = df['size'].apply(lambda x:int(x.split(' ')[0]))\n",
    "# droping the orignal size column \n",
    "df = df.drop(['size'],axis = 1)\n",
    "df.head()"
   ]
  },
  {
   "cell_type": "markdown",
   "metadata": {},
   "source": [
    "In the total_sqft column there are values containing the ranges of so we will be avaeraging the range and work with the mean value."
   ]
  },
  {
   "cell_type": "code",
   "execution_count": 12,
   "metadata": {},
   "outputs": [],
   "source": [
    "def is_float(x):\n",
    "    try:\n",
    "        float(x)\n",
    "        return True\n",
    "    except:\n",
    "        return False"
   ]
  },
  {
   "cell_type": "code",
   "execution_count": 13,
   "metadata": {},
   "outputs": [
    {
     "data": {
      "text/html": [
       "<div>\n",
       "<style scoped>\n",
       "    .dataframe tbody tr th:only-of-type {\n",
       "        vertical-align: middle;\n",
       "    }\n",
       "\n",
       "    .dataframe tbody tr th {\n",
       "        vertical-align: top;\n",
       "    }\n",
       "\n",
       "    .dataframe thead th {\n",
       "        text-align: right;\n",
       "    }\n",
       "</style>\n",
       "<table border=\"1\" class=\"dataframe\">\n",
       "  <thead>\n",
       "    <tr style=\"text-align: right;\">\n",
       "      <th></th>\n",
       "      <th>location</th>\n",
       "      <th>total_sqft</th>\n",
       "      <th>bath</th>\n",
       "      <th>price</th>\n",
       "      <th>bhk</th>\n",
       "    </tr>\n",
       "  </thead>\n",
       "  <tbody>\n",
       "    <tr>\n",
       "      <th>4226</th>\n",
       "      <td>Whitefield</td>\n",
       "      <td>524 - 894</td>\n",
       "      <td>1.0</td>\n",
       "      <td>34.385</td>\n",
       "      <td>1</td>\n",
       "    </tr>\n",
       "    <tr>\n",
       "      <th>6229</th>\n",
       "      <td>Bannerghatta Road</td>\n",
       "      <td>1365 - 1700</td>\n",
       "      <td>3.0</td>\n",
       "      <td>84.290</td>\n",
       "      <td>3</td>\n",
       "    </tr>\n",
       "    <tr>\n",
       "      <th>1183</th>\n",
       "      <td>Magadi Road</td>\n",
       "      <td>884 - 1116</td>\n",
       "      <td>2.0</td>\n",
       "      <td>46.500</td>\n",
       "      <td>2</td>\n",
       "    </tr>\n",
       "    <tr>\n",
       "      <th>8312</th>\n",
       "      <td>Tumkur Road</td>\n",
       "      <td>596 - 861</td>\n",
       "      <td>1.0</td>\n",
       "      <td>31.315</td>\n",
       "      <td>1</td>\n",
       "    </tr>\n",
       "    <tr>\n",
       "      <th>3890</th>\n",
       "      <td>Tumkur Road</td>\n",
       "      <td>1210 - 1477</td>\n",
       "      <td>3.0</td>\n",
       "      <td>57.760</td>\n",
       "      <td>3</td>\n",
       "    </tr>\n",
       "  </tbody>\n",
       "</table>\n",
       "</div>"
      ],
      "text/plain": [
       "               location   total_sqft  bath   price  bhk\n",
       "4226         Whitefield    524 - 894   1.0  34.385    1\n",
       "6229  Bannerghatta Road  1365 - 1700   3.0  84.290    3\n",
       "1183        Magadi Road   884 - 1116   2.0  46.500    2\n",
       "8312        Tumkur Road    596 - 861   1.0  31.315    1\n",
       "3890        Tumkur Road  1210 - 1477   3.0  57.760    3"
      ]
     },
     "execution_count": 13,
     "metadata": {},
     "output_type": "execute_result"
    }
   ],
   "source": [
    "df[~df['total_sqft'].apply(is_float)].sample(5)"
   ]
  },
  {
   "cell_type": "code",
   "execution_count": 14,
   "metadata": {},
   "outputs": [],
   "source": [
    "# creating a function tp avergae the ranges \n",
    "\n",
    "def convert_sqft(x):\n",
    "    token = x.split('-')\n",
    "    if len(token) == 2:\n",
    "        return (float(token[0])+float(token[1]))/2\n",
    "    try:\n",
    "        return float(x)\n",
    "    except:\n",
    "        return None"
   ]
  },
  {
   "cell_type": "code",
   "execution_count": 15,
   "metadata": {},
   "outputs": [
    {
     "data": {
      "text/html": [
       "<div>\n",
       "<style scoped>\n",
       "    .dataframe tbody tr th:only-of-type {\n",
       "        vertical-align: middle;\n",
       "    }\n",
       "\n",
       "    .dataframe tbody tr th {\n",
       "        vertical-align: top;\n",
       "    }\n",
       "\n",
       "    .dataframe thead th {\n",
       "        text-align: right;\n",
       "    }\n",
       "</style>\n",
       "<table border=\"1\" class=\"dataframe\">\n",
       "  <thead>\n",
       "    <tr style=\"text-align: right;\">\n",
       "      <th></th>\n",
       "      <th>location</th>\n",
       "      <th>total_sqft</th>\n",
       "      <th>bath</th>\n",
       "      <th>price</th>\n",
       "      <th>bhk</th>\n",
       "    </tr>\n",
       "  </thead>\n",
       "  <tbody>\n",
       "    <tr>\n",
       "      <th>11429</th>\n",
       "      <td>Thanisandra</td>\n",
       "      <td>1226.0</td>\n",
       "      <td>2.0</td>\n",
       "      <td>65.0</td>\n",
       "      <td>2</td>\n",
       "    </tr>\n",
       "    <tr>\n",
       "      <th>9029</th>\n",
       "      <td>Basaveshwara Nagar</td>\n",
       "      <td>900.0</td>\n",
       "      <td>2.0</td>\n",
       "      <td>60.0</td>\n",
       "      <td>2</td>\n",
       "    </tr>\n",
       "    <tr>\n",
       "      <th>1442</th>\n",
       "      <td>Ashwathnagar</td>\n",
       "      <td>2197.0</td>\n",
       "      <td>4.0</td>\n",
       "      <td>280.0</td>\n",
       "      <td>3</td>\n",
       "    </tr>\n",
       "    <tr>\n",
       "      <th>11325</th>\n",
       "      <td>Thanisandra Main Road,</td>\n",
       "      <td>1308.0</td>\n",
       "      <td>2.0</td>\n",
       "      <td>86.0</td>\n",
       "      <td>2</td>\n",
       "    </tr>\n",
       "    <tr>\n",
       "      <th>10227</th>\n",
       "      <td>Rajaji Nagar</td>\n",
       "      <td>1222.0</td>\n",
       "      <td>2.0</td>\n",
       "      <td>98.0</td>\n",
       "      <td>2</td>\n",
       "    </tr>\n",
       "  </tbody>\n",
       "</table>\n",
       "</div>"
      ],
      "text/plain": [
       "                      location  total_sqft  bath  price  bhk\n",
       "11429              Thanisandra      1226.0   2.0   65.0    2\n",
       "9029        Basaveshwara Nagar       900.0   2.0   60.0    2\n",
       "1442              Ashwathnagar      2197.0   4.0  280.0    3\n",
       "11325  Thanisandra Main Road,       1308.0   2.0   86.0    2\n",
       "10227             Rajaji Nagar      1222.0   2.0   98.0    2"
      ]
     },
     "execution_count": 15,
     "metadata": {},
     "output_type": "execute_result"
    }
   ],
   "source": [
    "# applying the function and storing it \n",
    "df['total_sqft'] = df['total_sqft'].apply(convert_sqft)\n",
    "df.sample(5)"
   ]
  },
  {
   "cell_type": "code",
   "execution_count": 16,
   "metadata": {},
   "outputs": [
    {
     "data": {
      "text/plain": [
       "(13246, 5)"
      ]
     },
     "metadata": {},
     "output_type": "display_data"
    },
    {
     "data": {
      "text/plain": [
       "(13200, 5)"
      ]
     },
     "execution_count": 16,
     "metadata": {},
     "output_type": "execute_result"
    }
   ],
   "source": [
    "# dropping these values as well\n",
    "display(df.shape)\n",
    "df = df.dropna()\n",
    "df.shape"
   ]
  },
  {
   "cell_type": "code",
   "execution_count": 17,
   "metadata": {},
   "outputs": [
    {
     "data": {
      "text/plain": [
       "array([ 2,  4,  3,  6,  1,  8,  7,  5, 11,  9, 27, 10, 19, 16, 43, 14, 12,\n",
       "       13, 18], dtype=int64)"
      ]
     },
     "execution_count": 17,
     "metadata": {},
     "output_type": "execute_result"
    }
   ],
   "source": [
    "\n",
    "df.bhk.unique()"
   ]
  },
  {
   "cell_type": "code",
   "execution_count": 18,
   "metadata": {},
   "outputs": [
    {
     "data": {
      "text/html": [
       "<div>\n",
       "<style scoped>\n",
       "    .dataframe tbody tr th:only-of-type {\n",
       "        vertical-align: middle;\n",
       "    }\n",
       "\n",
       "    .dataframe tbody tr th {\n",
       "        vertical-align: top;\n",
       "    }\n",
       "\n",
       "    .dataframe thead th {\n",
       "        text-align: right;\n",
       "    }\n",
       "</style>\n",
       "<table border=\"1\" class=\"dataframe\">\n",
       "  <thead>\n",
       "    <tr style=\"text-align: right;\">\n",
       "      <th></th>\n",
       "      <th>location</th>\n",
       "      <th>total_sqft</th>\n",
       "      <th>bath</th>\n",
       "      <th>price</th>\n",
       "      <th>bhk</th>\n",
       "    </tr>\n",
       "  </thead>\n",
       "  <tbody>\n",
       "    <tr>\n",
       "      <th>1718</th>\n",
       "      <td>2Electronic City Phase II</td>\n",
       "      <td>8000.0</td>\n",
       "      <td>27.0</td>\n",
       "      <td>230.0</td>\n",
       "      <td>27</td>\n",
       "    </tr>\n",
       "    <tr>\n",
       "      <th>4684</th>\n",
       "      <td>Munnekollal</td>\n",
       "      <td>2400.0</td>\n",
       "      <td>40.0</td>\n",
       "      <td>660.0</td>\n",
       "      <td>43</td>\n",
       "    </tr>\n",
       "  </tbody>\n",
       "</table>\n",
       "</div>"
      ],
      "text/plain": [
       "                       location  total_sqft  bath  price  bhk\n",
       "1718  2Electronic City Phase II      8000.0  27.0  230.0   27\n",
       "4684                Munnekollal      2400.0  40.0  660.0   43"
      ]
     },
     "execution_count": 18,
     "metadata": {},
     "output_type": "execute_result"
    }
   ],
   "source": [
    "# looking at all the records that have more than 20 bedrooms\n",
    "df[df['bhk']>20]"
   ]
  },
  {
   "cell_type": "markdown",
   "metadata": {},
   "source": [
    "If we look above we the the area of 43 and 27 bhk are way to less to acomodate 43 rooms with 40 bathrooms and 27 rooms with 27 bathrooms. so we will romove such descripancies as well.  "
   ]
  },
  {
   "cell_type": "code",
   "execution_count": 19,
   "metadata": {},
   "outputs": [
    {
     "name": "stdout",
     "output_type": "stream",
     "text": [
      "(13200, 5)\n"
     ]
    },
    {
     "data": {
      "text/plain": [
       "(10627, 5)"
      ]
     },
     "execution_count": 19,
     "metadata": {},
     "output_type": "execute_result"
    }
   ],
   "source": [
    "\n",
    "print(df.shape)\n",
    "# removing all the column that have discrepencies in total_sqft\n",
    "df = df[~(df['total_sqft']/df['bhk']<450)]\n",
    "df.shape\n"
   ]
  },
  {
   "cell_type": "code",
   "execution_count": 20,
   "metadata": {},
   "outputs": [
    {
     "data": {
      "text/html": [
       "<div>\n",
       "<style scoped>\n",
       "    .dataframe tbody tr th:only-of-type {\n",
       "        vertical-align: middle;\n",
       "    }\n",
       "\n",
       "    .dataframe tbody tr th {\n",
       "        vertical-align: top;\n",
       "    }\n",
       "\n",
       "    .dataframe thead th {\n",
       "        text-align: right;\n",
       "    }\n",
       "</style>\n",
       "<table border=\"1\" class=\"dataframe\">\n",
       "  <thead>\n",
       "    <tr style=\"text-align: right;\">\n",
       "      <th></th>\n",
       "      <th>location</th>\n",
       "      <th>total_sqft</th>\n",
       "      <th>bath</th>\n",
       "      <th>price</th>\n",
       "      <th>bhk</th>\n",
       "      <th>price_per_sqft</th>\n",
       "    </tr>\n",
       "  </thead>\n",
       "  <tbody>\n",
       "    <tr>\n",
       "      <th>3672</th>\n",
       "      <td>Whitefield</td>\n",
       "      <td>1269.0</td>\n",
       "      <td>2.0</td>\n",
       "      <td>75.0</td>\n",
       "      <td>2</td>\n",
       "      <td>5910.165485</td>\n",
       "    </tr>\n",
       "    <tr>\n",
       "      <th>6687</th>\n",
       "      <td>Whitefield</td>\n",
       "      <td>1435.0</td>\n",
       "      <td>3.0</td>\n",
       "      <td>45.0</td>\n",
       "      <td>3</td>\n",
       "      <td>3135.888502</td>\n",
       "    </tr>\n",
       "    <tr>\n",
       "      <th>8798</th>\n",
       "      <td>Kothanur</td>\n",
       "      <td>1786.0</td>\n",
       "      <td>2.0</td>\n",
       "      <td>106.0</td>\n",
       "      <td>3</td>\n",
       "      <td>5935.050392</td>\n",
       "    </tr>\n",
       "    <tr>\n",
       "      <th>4857</th>\n",
       "      <td>Whitefield</td>\n",
       "      <td>1778.0</td>\n",
       "      <td>3.0</td>\n",
       "      <td>122.0</td>\n",
       "      <td>3</td>\n",
       "      <td>6861.642295</td>\n",
       "    </tr>\n",
       "    <tr>\n",
       "      <th>13048</th>\n",
       "      <td>Sarjapur  Road</td>\n",
       "      <td>1984.0</td>\n",
       "      <td>4.0</td>\n",
       "      <td>148.0</td>\n",
       "      <td>3</td>\n",
       "      <td>7459.677419</td>\n",
       "    </tr>\n",
       "  </tbody>\n",
       "</table>\n",
       "</div>"
      ],
      "text/plain": [
       "             location  total_sqft  bath  price  bhk  price_per_sqft\n",
       "3672       Whitefield      1269.0   2.0   75.0    2     5910.165485\n",
       "6687       Whitefield      1435.0   3.0   45.0    3     3135.888502\n",
       "8798         Kothanur      1786.0   2.0  106.0    3     5935.050392\n",
       "4857       Whitefield      1778.0   3.0  122.0    3     6861.642295\n",
       "13048  Sarjapur  Road      1984.0   4.0  148.0    3     7459.677419"
      ]
     },
     "execution_count": 20,
     "metadata": {},
     "output_type": "execute_result"
    }
   ],
   "source": [
    "# creating the price per sqft column\n",
    "df['price_per_sqft'] = df['price']*100000/df['total_sqft']\n",
    "df.sample(5)"
   ]
  },
  {
   "cell_type": "code",
   "execution_count": 21,
   "metadata": {},
   "outputs": [
    {
     "data": {
      "text/plain": [
       "1088"
      ]
     },
     "execution_count": 21,
     "metadata": {},
     "output_type": "execute_result"
    }
   ],
   "source": [
    "\n",
    "#We can certainly perform some dimensionality reduction on location column because as for a categorical column, \n",
    "# it has a lot of distinct values\n",
    "\n",
    "\n",
    "df.location.nunique()"
   ]
  },
  {
   "cell_type": "code",
   "execution_count": 23,
   "metadata": {},
   "outputs": [],
   "source": [
    "\n",
    "# So we can classify those locations as other locations\n",
    "location_grouped = df.groupby('location')['location'].agg('count').sort_values(ascending=False)\n",
    "other_locations = location_grouped[location_grouped<=10]"
   ]
  },
  {
   "cell_type": "code",
   "execution_count": 24,
   "metadata": {},
   "outputs": [
    {
     "data": {
      "text/plain": [
       "1088"
      ]
     },
     "metadata": {},
     "output_type": "display_data"
    },
    {
     "data": {
      "text/plain": [
       "194"
      ]
     },
     "execution_count": 24,
     "metadata": {},
     "output_type": "execute_result"
    }
   ],
   "source": [
    "\n",
    "display(df.location.nunique())\n",
    "df.location = df.location.apply(lambda x: 'other' if x in other_locations else x)\n",
    "df.location.nunique()"
   ]
  },
  {
   "cell_type": "markdown",
   "metadata": {},
   "source": [
    "\n",
    "Now we have 194 column, which is good because when converting it into categorical data, we won't have to deal with 1000 new columns, 200 is much more managable"
   ]
  },
  {
   "cell_type": "code",
   "execution_count": null,
   "metadata": {},
   "outputs": [],
   "source": []
  }
 ],
 "metadata": {
  "kernelspec": {
   "display_name": "base",
   "language": "python",
   "name": "python3"
  },
  "language_info": {
   "codemirror_mode": {
    "name": "ipython",
    "version": 3
   },
   "file_extension": ".py",
   "mimetype": "text/x-python",
   "name": "python",
   "nbconvert_exporter": "python",
   "pygments_lexer": "ipython3",
   "version": "3.11.7"
  }
 },
 "nbformat": 4,
 "nbformat_minor": 2
}
